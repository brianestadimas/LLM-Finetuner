{
 "cells": [
  {
   "cell_type": "code",
   "execution_count": null,
   "metadata": {},
   "outputs": [
    {
     "name": "stdout",
     "output_type": "stream",
     "text": [
      "==((====))==  Unsloth 2025.1.6: Fast Qwen2_Vl vision patching. Transformers: 4.47.1.\n",
      "   \\\\   /|    GPU: NVIDIA GeForce RTX 3090. Max memory: 23.684 GB. Platform: Linux.\n",
      "O^O/ \\_/ \\    Torch: 2.5.1+cu124. CUDA: 8.6. CUDA Toolkit: 12.4. Triton: 3.1.0\n",
      "\\        /    Bfloat16 = TRUE. FA [Xformers = 0.0.29.post1. FA2 = False]\n",
      " \"-____-\"     Free Apache license: http://github.com/unslothai/unsloth\n",
      "Unsloth: Fast downloading is enabled - ignore downloading bars which are red colored!\n"
     ]
    }
   ],
   "source": [
    "from phi3v import FinetunePhi3V\n",
    "from qwenvl import FinetuneQwenVL\n",
    "\n",
    "# Sample data\n",
    "data = [\n",
    "    {\n",
    "        \"image\": \"image.jpg\",\n",
    "        \"input\": \"Describe the image.\",\n",
    "        \"output\": \"This is a picture of two bags.\"\n",
    "    },\n",
    "    {\n",
    "        \"image\": \"image.jpg\",\n",
    "        \"input\": \"Describe the image.\",\n",
    "        \"output\": \"This is a picture of two bags.\"\n",
    "    },\n",
    "        {\n",
    "        \"image\": \"image.jpg\",\n",
    "        \"input\": \"Describe the image.\",\n",
    "        \"output\": \"This is a picture of two bags.\"\n",
    "    },\n",
    "            {\n",
    "        \"image\": \"image.jpg\",\n",
    "        \"input\": \"Describe the image.\",\n",
    "        \"output\": \"This is a picture of two bags.\"\n",
    "    },\n",
    "    # Add more data points as needed\n",
    "]\n",
    "\n",
    "# Initialize the finetune class with the data\n",
    "finetuner = FinetuneQwenVL(\n",
    "    data=data,\n",
    "    epochs=300,\n",
    "    learning_rate=1e-4,\n",
    "    warmup_ratio=0.1,\n",
    "    gradient_accumulation_steps=8,\n",
    "    optim=\"adamw_hf\",\n",
    "    model_id=\"unsloth/Qwen2-VL-7B-Instruct\",\n",
    "    peft_r=16,\n",
    "    peft_alpha=32,\n",
    "    peft_dropout=0.1,\n",
    ")\n",
    "\n",
    "# Run the finetuning process\n",
    "finetuner.run()\n"
   ]
  },
  {
   "cell_type": "code",
   "execution_count": 2,
   "metadata": {},
   "outputs": [
    {
     "name": "stdout",
     "output_type": "stream",
     "text": [
      "==((====))==  Unsloth 2025.1.6: Fast Qwen2_Vl vision patching. Transformers: 4.47.1.\n",
      "   \\\\   /|    GPU: NVIDIA GeForce RTX 3090. Max memory: 23.684 GB. Platform: Linux.\n",
      "O^O/ \\_/ \\    Torch: 2.5.1+cu124. CUDA: 8.6. CUDA Toolkit: 12.4. Triton: 3.1.0\n",
      "\\        /    Bfloat16 = TRUE. FA [Xformers = 0.0.29.post1. FA2 = False]\n",
      " \"-____-\"     Free Apache license: http://github.com/unslothai/unsloth\n",
      "Unsloth: Fast downloading is enabled - ignore downloading bars which are red colored!\n"
     ]
    },
    {
     "name": "stderr",
     "output_type": "stream",
     "text": [
      "Loading checkpoint shards: 100%|██████████| 4/4 [00:02<00:00,  1.72it/s]\n",
      "Some parameters are on the meta device because they were offloaded to the cpu.\n"
     ]
    },
    {
     "name": "stdout",
     "output_type": "stream",
     "text": [
      "Generated Output: system\n",
      "You are a helpful assistant.\n",
      "user\n",
      "Describe the image.\n",
      "assistant\n",
      "The image shows two black backpacks placed side by side on a surface. The backpack on the left is larger and has a longer shoulder strap, while the backpack on the right is smaller and has a shorter shoulder strap. Both backpacks have zippers and seem to be made of a similar material. The background appears to be a light-colored surface, possibly a table or a counter. The text \"Let's Go Digital\" is visible in the bottom right corner of the image.\n"
     ]
    }
   ],
   "source": [
    "from unsloth import FastVisionModel\n",
    "from PIL import Image\n",
    "\n",
    "model_id = \"unsloth/Qwen2-VL-7B-Instruct\"\n",
    "model, tokenizer = FastVisionModel.from_pretrained(\n",
    "    model_name =  model_id,  # Trained model either locally or from huggingface\n",
    "    load_in_4bit = False,\n",
    ")\n",
    "\n",
    "image = Image.open(\"image.jpg\")\n",
    "instruction = \"Describe the image.\"\n",
    "\n",
    "messages = [\n",
    "    {\n",
    "        \"role\": \"user\",\n",
    "        \"content\": [\n",
    "            {\n",
    "                \"type\": \"image\",\n",
    "            },\n",
    "            {\n",
    "                \"type\": \"text\",\n",
    "                \"text\": instruction\n",
    "            },\n",
    "        ]\n",
    "    }\n",
    "]\n",
    "\n",
    "\n",
    "\n",
    "FastVisionModel.for_inference(model)         # Enable for inference!\n",
    "input_text = tokenizer.apply_chat_template(messages, add_generation_prompt = True)\n",
    "inputs = tokenizer(\n",
    "    image,\n",
    "    input_text,\n",
    "    add_special_tokens = False,\n",
    "    return_tensors = \"pt\",\n",
    ").to(\"cuda\")\n",
    "# text_streamer = TextStreamer(tokenizer, skip_prompt = True)\n",
    "# output = model.generate(**inputs, max_new_tokens = 1024,\n",
    "#                    use_cache = True, temperature = 1.5, min_p = 0.1)\n",
    "output_ids = model.generate(\n",
    "    **inputs,\n",
    "    max_new_tokens=1024,\n",
    "    use_cache=True,\n",
    "    temperature=1.5,\n",
    "    min_p=0.1\n",
    ")\n",
    "\n",
    "# Decode generated tokens into text\n",
    "generated_text = tokenizer.decode(output_ids[0], skip_special_tokens=True, clean_up_tokenization_spaces=False)\n",
    "\n",
    "# Print the generated text\n",
    "print(\"Generated Output:\", generated_text)"
   ]
  },
  {
   "cell_type": "code",
   "execution_count": 8,
   "metadata": {},
   "outputs": [
    {
     "name": "stdout",
     "output_type": "stream",
     "text": [
      "The image shows two black backpacks placed side by side on a surface. The backpack on the left is larger and has a longer shoulder strap, while the backpack on the right is smaller and has a shorter shoulder strap. Both backpacks have zippers and seem to be made of a similar material. The background appears to be a light-colored surface, possibly a table or a counter. The text \"Let's Go Digital\" is visible in the bottom right corner of the image.\n"
     ]
    }
   ],
   "source": [
    "generate_ids = output_ids[:, inputs['input_ids'].shape[1]:]\n",
    "generated_text = tokenizer.decode(generate_ids[0], skip_special_tokens=True, clean_up_tokenization_spaces=False)\n",
    "print(generated_text)"
   ]
  }
 ],
 "metadata": {
  "kernelspec": {
   "display_name": "llmfinetune",
   "language": "python",
   "name": "python3"
  },
  "language_info": {
   "codemirror_mode": {
    "name": "ipython",
    "version": 3
   },
   "file_extension": ".py",
   "mimetype": "text/x-python",
   "name": "python",
   "nbconvert_exporter": "python",
   "pygments_lexer": "ipython3",
   "version": "3.12.8"
  }
 },
 "nbformat": 4,
 "nbformat_minor": 2
}
